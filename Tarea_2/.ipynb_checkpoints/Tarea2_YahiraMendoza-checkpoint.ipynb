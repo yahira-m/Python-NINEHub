{
 "cells": [
  {
   "cell_type": "code",
   "execution_count": 1,
   "metadata": {},
   "outputs": [
    {
     "name": "stdout",
     "output_type": "stream",
     "text": [
      "['M1', 'M200', 'M17', 'M31', 'M87', 'M104']\n"
     ]
    }
   ],
   "source": [
    "list_messier=[\"M1\",\"M200\",\"M17\",\"M31\",\"M87\",\"M104\"]\n",
    "print(list_messier)"
   ]
  },
  {
   "cell_type": "code",
   "execution_count": 2,
   "metadata": {},
   "outputs": [],
   "source": [
    "list_messier.append(\"M97\")"
   ]
  },
  {
   "cell_type": "code",
   "execution_count": 3,
   "metadata": {},
   "outputs": [
    {
     "data": {
      "text/plain": [
       "'M17'"
      ]
     },
     "execution_count": 3,
     "metadata": {},
     "output_type": "execute_result"
    }
   ],
   "source": [
    "list_messier[2]"
   ]
  },
  {
   "cell_type": "code",
   "execution_count": 4,
   "metadata": {},
   "outputs": [
    {
     "data": {
      "text/plain": [
       "'M97'"
      ]
     },
     "execution_count": 4,
     "metadata": {},
     "output_type": "execute_result"
    }
   ],
   "source": [
    "list_messier[-1]"
   ]
  },
  {
   "cell_type": "code",
   "execution_count": 5,
   "metadata": {},
   "outputs": [
    {
     "data": {
      "text/plain": [
       "['M200', 'M17', 'M31']"
      ]
     },
     "execution_count": 5,
     "metadata": {},
     "output_type": "execute_result"
    }
   ],
   "source": [
    "list_messier[1:4]"
   ]
  },
  {
   "cell_type": "code",
   "execution_count": 6,
   "metadata": {},
   "outputs": [
    {
     "data": {
      "text/plain": [
       "7"
      ]
     },
     "execution_count": 6,
     "metadata": {},
     "output_type": "execute_result"
    }
   ],
   "source": [
    "len(list_messier)"
   ]
  },
  {
   "cell_type": "code",
   "execution_count": 7,
   "metadata": {},
   "outputs": [
    {
     "name": "stdout",
     "output_type": "stream",
     "text": [
      "M87 se encuentra en la lista\n"
     ]
    }
   ],
   "source": [
    "for x in list_messier:\n",
    "    if x== \"M87\":\n",
    "        print('M87 se encuentra en la lista')"
   ]
  },
  {
   "cell_type": "code",
   "execution_count": 8,
   "metadata": {},
   "outputs": [],
   "source": [
    "list_messier[1]=\"NGC 205\""
   ]
  },
  {
   "cell_type": "code",
   "execution_count": 9,
   "metadata": {},
   "outputs": [
    {
     "name": "stdout",
     "output_type": "stream",
     "text": [
      "['M1', 'M7', 'NGC 205', 'M17', 'M31', 'M87', 'M104', 'M97']\n"
     ]
    }
   ],
   "source": [
    "list_messier.insert(1,\"M7\")\n",
    "print(list_messier)"
   ]
  },
  {
   "cell_type": "code",
   "execution_count": 10,
   "metadata": {},
   "outputs": [
    {
     "name": "stdout",
     "output_type": "stream",
     "text": [
      "['M1', 'M7', 'NGC 205', 'M17', 'M87', 'M104', 'M97']\n"
     ]
    }
   ],
   "source": [
    "list_messier.remove(\"M31\")\n",
    "print(list_messier)"
   ]
  },
  {
   "cell_type": "code",
   "execution_count": 11,
   "metadata": {},
   "outputs": [
    {
     "name": "stdout",
     "output_type": "stream",
     "text": [
      "['M7', 'NGC 205', 'M17', 'M87', 'M104', 'M97']\n"
     ]
    }
   ],
   "source": [
    "list_messier.pop(0)\n",
    "print(list_messier)"
   ]
  },
  {
   "cell_type": "code",
   "execution_count": 12,
   "metadata": {},
   "outputs": [
    {
     "name": "stdout",
     "output_type": "stream",
     "text": [
      "['M7', 'NGC 205', 'M17', 'M87', 'M97']\n"
     ]
    }
   ],
   "source": [
    "del(list_messier[-2])\n",
    "print(list_messier)"
   ]
  },
  {
   "cell_type": "code",
   "execution_count": 13,
   "metadata": {},
   "outputs": [
    {
     "name": "stdout",
     "output_type": "stream",
     "text": [
      "[]\n"
     ]
    }
   ],
   "source": [
    "list_messier.clear()\n",
    "print(list_messier) #Solo se eliminan los elementos de la lista"
   ]
  },
  {
   "cell_type": "code",
   "execution_count": 14,
   "metadata": {},
   "outputs": [],
   "source": [
    "del(list_messier) #Elimina por completo la lista, lanza error al llamar a list_messier"
   ]
  },
  {
   "cell_type": "code",
   "execution_count": 15,
   "metadata": {},
   "outputs": [
    {
     "ename": "NameError",
     "evalue": "name 'list_messier' is not defined",
     "output_type": "error",
     "traceback": [
      "\u001b[0;31m---------------------------------------------------------------------------\u001b[0m",
      "\u001b[0;31mNameError\u001b[0m                                 Traceback (most recent call last)",
      "\u001b[0;32m<ipython-input-15-285b97ea3cbd>\u001b[0m in \u001b[0;36m<module>\u001b[0;34m\u001b[0m\n\u001b[0;32m----> 1\u001b[0;31m \u001b[0mlist_messier\u001b[0m\u001b[0;34m\u001b[0m\u001b[0;34m\u001b[0m\u001b[0m\n\u001b[0m",
      "\u001b[0;31mNameError\u001b[0m: name 'list_messier' is not defined"
     ]
    }
   ],
   "source": [
    "list_messier"
   ]
  },
  {
   "cell_type": "code",
   "execution_count": 16,
   "metadata": {},
   "outputs": [],
   "source": [
    "list_masas=[3.302e23, 4.8690e24, 5.9742e24, 6.4191e23, 1.8987e27, 5.6851e26, 8.6849e25, 1.0244e26]"
   ]
  },
  {
   "cell_type": "code",
   "execution_count": 17,
   "metadata": {},
   "outputs": [
    {
     "data": {
      "text/plain": [
       "1.8987e+27"
      ]
     },
     "execution_count": 17,
     "metadata": {},
     "output_type": "execute_result"
    }
   ],
   "source": [
    "max(list_masas)"
   ]
  },
  {
   "cell_type": "code",
   "execution_count": 18,
   "metadata": {},
   "outputs": [
    {
     "name": "stdout",
     "output_type": "stream",
     "text": [
      "Jupiter es el planeta más pesado\n"
     ]
    }
   ],
   "source": [
    "print(\"Jupiter es el planeta más pesado\")"
   ]
  },
  {
   "cell_type": "code",
   "execution_count": 19,
   "metadata": {},
   "outputs": [
    {
     "data": {
      "text/plain": [
       "3.302e+23"
      ]
     },
     "execution_count": 19,
     "metadata": {},
     "output_type": "execute_result"
    }
   ],
   "source": [
    "min(list_masas)"
   ]
  },
  {
   "cell_type": "code",
   "execution_count": 20,
   "metadata": {},
   "outputs": [
    {
     "name": "stdout",
     "output_type": "stream",
     "text": [
      "Mercurio es el planeta más ligero\n"
     ]
    }
   ],
   "source": [
    "print(\"Mercurio es el planeta más ligero\")"
   ]
  },
  {
   "cell_type": "code",
   "execution_count": 21,
   "metadata": {},
   "outputs": [],
   "source": [
    "s=sum(list_masas)"
   ]
  },
  {
   "cell_type": "code",
   "execution_count": 22,
   "metadata": {},
   "outputs": [
    {
     "name": "stdout",
     "output_type": "stream",
     "text": [
      "La suma de las masas de todos los planetas es 2.66831431e+27 kg\n"
     ]
    }
   ],
   "source": [
    "print(f\"La suma de las masas de todos los planetas es {s} kg\")"
   ]
  },
  {
   "cell_type": "code",
   "execution_count": 23,
   "metadata": {},
   "outputs": [
    {
     "name": "stdout",
     "output_type": "stream",
     "text": [
      "2.66831431e+27\n"
     ]
    }
   ],
   "source": [
    "total_masas=0\n",
    "for x in list_masas:\n",
    "    total_masas+=x\n",
    "print(total_masas)"
   ]
  },
  {
   "cell_type": "code",
   "execution_count": 24,
   "metadata": {},
   "outputs": [
    {
     "name": "stdout",
     "output_type": "stream",
     "text": [
      "Las masas de todos los planetas del sistema solar equivalen al 0.1334157155% de la masa del Sol\n"
     ]
    }
   ],
   "source": [
    "m_solar=2e30\n",
    "p_masa=(s/m_solar)*100\n",
    "print(f\"Las masas de todos los planetas del sistema solar equivalen al {p_masa}% de la masa del Sol\")"
   ]
  },
  {
   "cell_type": "code",
   "execution_count": 25,
   "metadata": {},
   "outputs": [],
   "source": [
    "dic_masas={\"Mercurio\":3.302e23, \"Venus\":4.8690e24, \"Tierra\":5.9742e24, \"Marte\":6.4191e23, \"Júpiter\":1.8987e27, \"Saturno\":5.6851e26, \"Urano\":8.6849e25, \"Neptuno\":1.0244e26}"
   ]
  },
  {
   "cell_type": "code",
   "execution_count": 26,
   "metadata": {},
   "outputs": [
    {
     "name": "stdout",
     "output_type": "stream",
     "text": [
      "Mercurio : 3.302e+23\n",
      "Venus : 4.869e+24\n",
      "Tierra : 5.9742e+24\n",
      "Marte : 6.4191e+23\n",
      "Júpiter : 1.8987e+27\n",
      "Saturno : 5.6851e+26\n",
      "Urano : 8.6849e+25\n",
      "Neptuno : 1.0244e+26\n"
     ]
    }
   ],
   "source": [
    "items=dic_masas.items()\n",
    "for planeta, masa in items:\n",
    "    print(planeta,\":\", masa)"
   ]
  },
  {
   "cell_type": "code",
   "execution_count": 27,
   "metadata": {},
   "outputs": [
    {
     "name": "stdout",
     "output_type": "stream",
     "text": [
      "La masa de Mercurio equivale al 1.651e-05% del Sol\n",
      "La masa de Venus equivale al 0.00024345% del Sol\n",
      "La masa de Tierra equivale al 0.00029871% del Sol\n",
      "La masa de Marte equivale al 3.20955e-05% del Sol\n",
      "La masa de Júpiter equivale al 0.09493499999999999% del Sol\n",
      "La masa de Saturno equivale al 0.028425500000000003% del Sol\n",
      "La masa de Urano equivale al 0.0043424499999999994% del Sol\n",
      "La masa de Neptuno equivale al 0.005122% del Sol\n"
     ]
    }
   ],
   "source": [
    "for planeta, masa in items:\n",
    "    m_s=(masa/m_solar)*100\n",
    "    print(f\"La masa de {planeta} equivale al {m_s}% del Sol\")"
   ]
  },
  {
   "cell_type": "code",
   "execution_count": 28,
   "metadata": {},
   "outputs": [
    {
     "name": "stdout",
     "output_type": "stream",
     "text": [
      "2.66831431e+27\n"
     ]
    }
   ],
   "source": [
    "masas=dic_masas.values()\n",
    "masa_total=0\n",
    "for x in masas:\n",
    "    masa_total+=x\n",
    "print(masa_total)"
   ]
  },
  {
   "cell_type": "code",
   "execution_count": 29,
   "metadata": {},
   "outputs": [],
   "source": [
    "archivo = open('masa_total.txt', 'w') \n",
    "archivo.write('La suma de las masas de los planetas del sistema solar es 2.66831431e+27') \n",
    "archivo.close() "
   ]
  },
  {
   "cell_type": "code",
   "execution_count": 30,
   "metadata": {},
   "outputs": [
    {
     "name": "stdout",
     "output_type": "stream",
     "text": [
      "2\n",
      "4\n",
      "6\n",
      "8\n",
      "10\n",
      "12\n",
      "14\n",
      "16\n",
      "18\n",
      "20\n",
      "22\n",
      "24\n"
     ]
    }
   ],
   "source": [
    "lista=list(range(1,25))\n",
    "num_pares=[]\n",
    "for x in lista:\n",
    "    if x % 2 ==0:\n",
    "        num_pares.append(x)\n",
    "        print(x)"
   ]
  },
  {
   "cell_type": "code",
   "execution_count": 31,
   "metadata": {},
   "outputs": [],
   "source": [
    "num_pares_str=' '.join(str(x) for x in num_pares)"
   ]
  },
  {
   "cell_type": "code",
   "execution_count": 33,
   "metadata": {},
   "outputs": [
    {
     "data": {
      "text/plain": [
       "31"
      ]
     },
     "execution_count": 33,
     "metadata": {},
     "output_type": "execute_result"
    }
   ],
   "source": [
    "archivo = open('masa_total.txt','a') \n",
    "archivo.write(\"\\n\")\n",
    "archivo.write(num_pares_str)"
   ]
  },
  {
   "cell_type": "code",
   "execution_count": null,
   "metadata": {},
   "outputs": [],
   "source": []
  }
 ],
 "metadata": {
  "kernelspec": {
   "display_name": "Python 3",
   "language": "python",
   "name": "python3"
  },
  "language_info": {
   "codemirror_mode": {
    "name": "ipython",
    "version": 3
   },
   "file_extension": ".py",
   "mimetype": "text/x-python",
   "name": "python",
   "nbconvert_exporter": "python",
   "pygments_lexer": "ipython3",
   "version": "3.8.3"
  }
 },
 "nbformat": 4,
 "nbformat_minor": 4
}
