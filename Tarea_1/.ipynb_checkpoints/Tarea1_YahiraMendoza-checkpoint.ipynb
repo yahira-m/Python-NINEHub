{
 "cells": [
  {
   "cell_type": "code",
   "execution_count": 1,
   "metadata": {},
   "outputs": [
    {
     "name": "stdout",
     "output_type": "stream",
     "text": [
      "Hola mundo\n"
     ]
    }
   ],
   "source": [
    "print('Hola mundo')"
   ]
  },
  {
   "cell_type": "code",
   "execution_count": 2,
   "metadata": {},
   "outputs": [],
   "source": [
    "nombre= 'Yahira Mendoza '\n",
    "edad= 22 \n",
    "pais= 'Honduras'"
   ]
  },
  {
   "cell_type": "code",
   "execution_count": 3,
   "metadata": {},
   "outputs": [
    {
     "name": "stdout",
     "output_type": "stream",
     "text": [
      "Yahira Mendoza 22 Honduras\n"
     ]
    }
   ],
   "source": [
    "print(nombre  + str(edad) + ' ' + pais)"
   ]
  },
  {
   "cell_type": "code",
   "execution_count": 4,
   "metadata": {},
   "outputs": [
    {
     "name": "stdout",
     "output_type": "stream",
     "text": [
      "<class 'str'>\n",
      "<class 'int'>\n",
      "<class 'str'>\n"
     ]
    }
   ],
   "source": [
    "print(type(nombre))\n",
    "print(type(edad))\n",
    "print(type(pais))"
   ]
  },
  {
   "cell_type": "code",
   "execution_count": 5,
   "metadata": {},
   "outputs": [
    {
     "name": "stdout",
     "output_type": "stream",
     "text": [
      "En astronomía, la clasificación estelar \n",
      "es la clasificación de las estrellas en \n",
      "función de sus características espectrales.\n"
     ]
    }
   ],
   "source": [
    "print('En astronomía, la clasificación estelar \\nes la clasificación de las estrellas en \\nfunción de sus características espectrales.')"
   ]
  },
  {
   "cell_type": "code",
   "execution_count": 6,
   "metadata": {},
   "outputs": [
    {
     "name": "stdout",
     "output_type": "stream",
     "text": [
      "Hipergigantes---Subgigantes---Secuencia Principal*\n"
     ]
    }
   ],
   "source": [
    "sep='---'\n",
    "end='*'\n",
    "print('Hipergigantes'+sep+'Subgigantes'+sep+'Secuencia Principal'+end)"
   ]
  },
  {
   "cell_type": "code",
   "execution_count": 7,
   "metadata": {},
   "outputs": [
    {
     "name": "stdout",
     "output_type": "stream",
     "text": [
      "La masa del Sol es 1.98892e+30 kg y la masa de Jupiter es 1.897824427480916e+27 kg\n"
     ]
    }
   ],
   "source": [
    "m_solar=1.98892e+30\n",
    "m_jupiter=m_solar/1048\n",
    "print(f'La masa del Sol es {m_solar} kg y la masa de Jupiter es {m_jupiter} kg')"
   ]
  },
  {
   "cell_type": "code",
   "execution_count": 14,
   "metadata": {},
   "outputs": [
    {
     "name": "stdout",
     "output_type": "stream",
     "text": [
      "Ingrese la distancia entre el planeta y el Sol: 9.537\n",
      "True\n"
     ]
    }
   ],
   "source": [
    "AU=149597870700\n",
    "d= float(input('Ingrese la distancia entre el planeta y el Sol: '))\n",
    "\n",
    "if d*AU > AU:\n",
    "    print(True)\n",
    "else:\n",
    "    print(False)"
   ]
  }
 ],
 "metadata": {
  "kernelspec": {
   "display_name": "Python 3",
   "language": "python",
   "name": "python3"
  },
  "language_info": {
   "codemirror_mode": {
    "name": "ipython",
    "version": 3
   },
   "file_extension": ".py",
   "mimetype": "text/x-python",
   "name": "python",
   "nbconvert_exporter": "python",
   "pygments_lexer": "ipython3",
   "version": "3.8.3"
  }
 },
 "nbformat": 4,
 "nbformat_minor": 4
}
